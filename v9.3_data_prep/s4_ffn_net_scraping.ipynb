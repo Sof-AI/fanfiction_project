{
 "cells": [
  {
   "cell_type": "markdown",
   "id": "da2e90ba",
   "metadata": {},
   "source": [
    "# Cleaning s4 fic_urls for merging with fic_text\n",
    "- **By:** Sofia Kobayashi\n",
    "- **Date:** 11/02/2023\n",
    "- **Description:** Need to add fic_id, author, title, fandoms, and location to s4 fic_urls since that is what are used in fic matching comparisons\n",
    "    - Broke fic_urls into 3 DFs: ao3, ffn, oth"
   ]
  },
  {
   "cell_type": "code",
   "execution_count": 5,
   "id": "9b649fb7",
   "metadata": {},
   "outputs": [],
   "source": [
    "from bs4 import BeautifulSoup as bs4\n",
    "import requests"
   ]
  },
  {
   "cell_type": "markdown",
   "id": "a09875b1",
   "metadata": {},
   "source": [
    "## Load in s4 fic_urls"
   ]
  },
  {
   "cell_type": "code",
   "execution_count": 14,
   "id": "e72dfc46",
   "metadata": {
    "scrolled": true
   },
   "outputs": [
    {
     "name": "stdout",
     "output_type": "stream",
     "text": [
      "<!DOCTYPE html>\n",
      "<html lang=\"en-US\">\n",
      " <head>\n",
      "  <title>\n",
      "   Just a moment...\n",
      "  </title>\n",
      "  <meta content=\"text/html; charset=utf-8\" http-equiv=\"Content-Type\"/>\n",
      "  <meta content=\"IE=Edge\" http-equiv=\"X-UA-Compatible\"/>\n",
      "  <meta content=\"noindex,nofollow\" name=\"robots\"/>\n",
      "  <meta content=\"width=device-width,initial-scale=1\" name=\"viewport\"/>\n",
      "  <link href=\"/cdn-cgi/styles/challenges.css\" rel=\"stylesheet\"/>\n",
      " </head>\n",
      " <body class=\"no-js\">\n",
      "  <div class=\"main-wrapper\" role=\"main\">\n",
      "   <div class=\"main-content\">\n",
      "    <noscript>\n",
      "     <div id=\"challenge-error-title\">\n",
      "      <div class=\"h2\">\n",
      "       <span class=\"icon-wrapper\">\n",
      "        <div class=\"heading-icon warning-icon\">\n",
      "        </div>\n",
      "       </span>\n",
      "       <span id=\"challenge-error-text\">\n",
      "        Enable JavaScript and cookies to continue\n",
      "       </span>\n",
      "      </div>\n",
      "     </div>\n",
      "    </noscript>\n",
      "   </div>\n",
      "  </div>\n",
      "  <script>\n",
      "   (function(){window._cf_chl_opt={cvId: '2',cZone: \"www.fanfiction.net\",cType: 'interactive',cNounce: '66008',cRay: '820ff4cb2c73152e',cHash: '136b9615342d072',cUPMDTk: \"\\/s\\/10639657\\/1\\/Odd-Job-Tsuna?__cf_chl_tk=PZlP4WG8XEoOApof8luuTEncU_hJd9oBuPcZ4xu2zeg-1699133405-0-gaNycGzNCjs\",cFPWv: 'b',cTTimeMs: '1000',cMTimeMs: '0',cTplV: 5,cTplB: 'cf',cK: \"visitor-time\",fa: \"\\/s\\/10639657\\/1\\/Odd-Job-Tsuna?__cf_chl_f_tk=PZlP4WG8XEoOApof8luuTEncU_hJd9oBuPcZ4xu2zeg-1699133405-0-gaNycGzNCjs\",md: \"FA7nnASFuC7GNRa4fYHEH54BmDsnBiXyl9bAoFtGhR8-1699133405-0-Aex6o4sUicu2wp-EdPXgSjih_QF8V8HHWanQnBTuBPnOsUndeXpITKFameXKTEmvgvqw_N87PeFYv1Hk0j2s-z6f6JMvalyjqDWitpl1MB5Rr1JYpE8rHmLkegn4lWmI_mmqGg3fS7mGIAdo_YDx3FZT_jB8g_3u0OTCp8zGkhUmaL7AnGJdMAHz2gklDNQ31bdXj2iG2cGD58X1a3Hc0amBErjpbrlIXvxfW4Ic_dmvB_JXdFw-BqOf0w9F5q6Hm30ZmfwYAMiu2LkbSPPmb2_gIJJzW1ezv4wRwsZ2wMF3T38ObI9KBIV10INcd1tGMqz3TTT_xNzQiBE3jy71G3F628dTg59Y6amUX3oFKmJQ_XAJ58zkPODHIKjFz_PufxntVYc_GkGqMac8J6Rg1MnvrUbR946gHMTgeoIvZN5CjeCJWanrT5hEm62a1WHwLAIDpSAamUtHcgnXB51tiKQ1WRnfJxHtmEEIsH9flwa4JDsXSSUVigSRsbvxBAiYRCnc4VVXhtCGsyHBYk972AnL_wYXSMVopD3IyVSwX4bATZKnk7mZvJt6vJCY7e6AdUscrtV6-CHGFkuAQ91AKMgzVnbNKf2aRTld4eNEqFey6qskc4sVmVMzlIDwUPAo7JPUv0uQJGt04VJbxY6yGdFLR9ULc8WsTXXesoIyLIpc16BCJRPVZ13VdQzpt_eIOAzn121a0n9ReItWtRhX97c2LU3DsTs5ywBNh7Iy_8WSi5k5iMSBbwKT_4rHn_3Gks28VojC27uPw0wzyRkxQMLb8lF_9d9r4JOiMuZYUJ4TgFwNEklkGPoC_nBfBCjJERflZyrLWgBk9pvoDaw-nC-6ywtuFy9iFp1XfQ5o_zia3bczfznufPPVhos4MHmhscfhNxF8fs--WDhg38vWcshYFhni1gObqnY_UQJ5X7K4mQWaH6kTmnggGBIl2NgzJBzTK13Kj2iuxHp8NDnZcLhWV6exbouzr21s8cD7NNE-P6JTb6LifJW32zD0KNbhjQcGm1quqsQcWtk8HBcWB6n-7KmNUxycTZoF2RAhIXhuL-4BXvCd02bG-1dT5jR7H7tr-XtoaXm9AZfc7qAB8cT6IHyrN34xAW5jHpZc_caa1Olp3C1ZAjrEhnnZ-Z6_wRhd4X8nWbn1__ntEvOkQzLDUWd93ZF45Elz9Ov8qcuNYR2TP92JfS9Xawo5-Bc-WRviFAfTpELC12VseBsltqXAYmjdYWhNRg834tGR1MZDsOD10p-lrQrTyb15WhKvfMy2tp_4g13YTlPKBEoL_KP_hP3Lor0oFKAgYaUX-DFutMSTdBXsQOm1qDK7QJEEcTtJKDghXxImQ2n3b5I1itYAWk-dyWqstzWwncDrhAg6ckxeJcEX8tRhER3ydngjK0ZT_52zhHaYnQhy4zGrBwsBTThGQNb5hcGPsXBk_g-uiuyNFPKR8cm6LP93W0JJM83idxPLTtSbwWTxnahDJ8iU05QRn4Ac22KOEP9TaFKCdH01j4a4Lvu9rgWvIumG8XRZ1zXL0UKJxyvKXc0w9Yb4yFEPBBv-xJQKezex5jy3gwLNdACck0Sjuj8PyJZtVOkD5RtHJG3J3fNSYVO38idL-VdHhJaRQMo-04Pv2mgGn3nQfuV17IVAIL0mlvkyoDUyDeNkFDlbascIX9UcEFsWTCUNs5IXrhjjjuMqUsNkLnHy135nQKRh-aqdkdfZ3H8_2Su-Vbgapc-LWAQv2LIg1hfxJrFlCOV0dZpEPbtuet4YoMPBognQ6L4zKoH2Xrw0u_zwIUyfoBRMfqTLrUTkyBRNAlXs1z5zxokKRVSO2wue6SciLhA_12ze87grgJ_dq7gFl7UOZxViAcKPwwPZULoB5xWNFHZzkUXuE3bkjFrKpt4RUN9W4jaIxMENmn-_QZ3hjrTCCjxH3OBk-yY-6tK5oL8BxlbJEWqHv6krsFvQYtXqTFQ20HPNL0UAleBMxE47JV4_e_KhaJkpPGGb-BEHvBn4yTj0W29Ps3zHEF-MOV7sZUlkYJ9qo4h0-_1yyKem1Da6ZZZE-wrUHm9RCSAU7h3Ktwmcrs_dAc5OQry5x_OjjzndnGcPhgsEaXR2llI_3YaoeZA9kynRJbstcrdkiawLa8BgeYRf274eLed8NHEQNn2jVv4O14v0KhdDAYdLP8PmRmm-bdk9D-Tgz3bdXfaITpT0VvkJOOLTghm-JdfOOmgR2TwLTfQDIcUerNVMeus79Ytj9nuoJ83cEIRBxyfPCkOtIdRxFBdhNNvhJa9prwU9BmEHsgKo-ZUmV5ruEySTbXSq7pVW1HJFO8d8LDyT5UpcnTZ35tace9Bi-fgamBRKGdjeWZNK0CYkvCva_jnRWaU6jSBzdeIvpIoBWTG37YZKOe_3DE1f2gLuKbXY_G2OgEnjw7L835I0bfzzLs5tJ7j2F8G7Mem9KsXZRxb_yOjn01Hc-ili3ciXCR4o7sYSn57ZuefPrYRvL6ItOFpz5U8xCMB9bp2KkeYAZu73zc2_Lle22VzvsRPR2GuLLd-auHfrGXUj0A\",cRq: {ru: 'aHR0cHM6Ly93d3cuZmFuZmljdGlvbi5uZXQvcy8xMDYzOTY1Ny8xL09kZC1Kb2ItVHN1bmE=',ra: 'cHl0aG9uLXJlcXVlc3RzLzIuMjcuMQ==',rm: 'R0VU',d: 'cbSeQMjb57HVstVH5lmDjvbT9uTgpOC2gMzHp2oySeOg7imdSo3F96SfRwd4AFOEGgqcwAPZJNEeDWC3qa6nrAfk6GNioPMBI88QymdAsZO95jcVENiuIuvFgI6e8lSOd/IHB14MivCZbUOZI2NKwYFW8mefCc75I2hX+TNjDxhgCmeNa3cuIpf5DYT/xu0G6QY97uw78iUKBpb5KcGtNHk37ZjELmwNdgDmpoPXYOrinEsBAblkjt5Hh2F5DRl2pQQIFsJ+d7UfMpYwOoZNj73kVl1KqCpBXYj7nPVz8G36uoCNcQZWk1pezHcWrpXMZ5lW0zVUoOjqHysz5U7n/6/NqvU8G+KwVk8iS8pupHBvHpspjhimkYQg0miFCRdRqgvKJcZDKaoM3bjq7cG6Evfo6q2IQcN6nJX9K1o8EKHJ5A7nohuRqhfxo5lZXPhFXoUF6VZFDTfZWXqizPBip2+sx61qx/qe06lhO6Cb1y82pnmHSx9LLKDZyRpxS3fcCcNkj1+ngQO1pn01LAkZc6VDie4iqBPRGNzQMDeQ9Hqzktq49vk+joZYSDB7CRHbWcQqsElJEl7E46o2le/7AaLX3pJjdPbQ4nItEBD5x/w=',t: 'MTY5OTEzMzQwNS45NTUwMDA=',cT: Math.floor(Date.now() / 1000),m: 'tsD9NBI4t7r0tcOqJ270WJ8NxKMmS0uwbvtrnOuPzUQ=',i1: 'CdSnCgW3AMds14E2Mn9WKA==',i2: 'KY9Jp4LxdCyG4INHOkTqQg==',zh: 'ZpaXvzspOrwreFFqBU0xW4uemSZhlFuabF38XN6L/9o=',uh: 'JNy/u1JaDY8l68+s834y37Qd6UIzTJLBzCkJPX4t/ps=',hh: 'q+cqS/21CpTeI/iaB+9HyTCbvjOCqa8bvFUXdzDnXKU=',}};var cpo = document.createElement('script');cpo.src = '/cdn-cgi/challenge-platform/h/b/orchestrate/chl_page/v1?ray=820ff4cb2c73152e';window._cf_chl_opt.cOgUHash = location.hash === '' && location.href.indexOf('#') !== -1 ? '#' : location.hash;window._cf_chl_opt.cOgUQuery = location.search === '' && location.href.slice(0, location.href.length - window._cf_chl_opt.cOgUHash.length).indexOf('?') !== -1 ? '?' : location.search;if (window.history && window.history.replaceState) {var ogU = location.pathname + window._cf_chl_opt.cOgUQuery + window._cf_chl_opt.cOgUHash;history.replaceState(null, null, \"\\/s\\/10639657\\/1\\/Odd-Job-Tsuna?__cf_chl_rt_tk=PZlP4WG8XEoOApof8luuTEncU_hJd9oBuPcZ4xu2zeg-1699133405-0-gaNycGzNCjs\" + window._cf_chl_opt.cOgUHash);cpo.onload = function() {history.replaceState(null, null, ogU);}}document.getElementsByTagName('head')[0].appendChild(cpo);}());\n",
      "  </script>\n",
      " </body>\n",
      "</html>\n"
     ]
    }
   ],
   "source": [
    "URL = 'https://www.fanfiction.net/s/10639657/1/Odd-Job-Tsuna'\n",
    "html = requests.get(URL).text\n",
    "soup = BeautifulSoup(html, 'lxml')\n",
    "print(soup.prettify())"
   ]
  },
  {
   "cell_type": "code",
   "execution_count": 68,
   "id": "8c6501b5",
   "metadata": {
    "scrolled": true
   },
   "outputs": [
    {
     "name": "stderr",
     "output_type": "stream",
     "text": [
      "/var/folders/nd/fh2fj1dx223_n52t8lnhvgg80000gn/T/ipykernel_15933/2354268072.py:7: DeprecationWarning: executable_path has been deprecated, please pass in a Service object\n",
      "  driver = webdriver.Chrome(ChromeDriverManager().install())\n"
     ]
    }
   ],
   "source": [
    "# WORKING SELENIUM\n",
    "from selenium import webdriver\n",
    "from webdriver_manager.chrome import ChromeDriverManager\n",
    "\n",
    "options = webdriver.ChromeOptions() \n",
    "options.headless = True \n",
    "driver = webdriver.Chrome(ChromeDriverManager().install())\n",
    "driver.get('https://scrapeme.live/shop/');\n"
   ]
  },
  {
   "cell_type": "code",
   "execution_count": null,
   "id": "8e6a7d5b",
   "metadata": {},
   "outputs": [],
   "source": [
    "from selenium.webdriver.common.keys import Keys\n",
    "# import Action chains\n",
    "from selenium.webdriver.common.action_chains import ActionChains\n",
    " \n",
    "# import KEYS\n",
    "from selenium.webdriver.common.keys import Keys\n",
    "\n",
    "\n",
    "def click_ul_element(driver, footerID):\n",
    "    saveHeight = 0\n",
    "    footer = driver.find_elements(By.ID, footerID)\n",
    "    \n",
    "    wait = WebDriverWait(driver, 5)\n",
    "    #print(footer)\n",
    "    print(\"Searching page...\")\n",
    "    while len(footer) == 0:\n",
    "#         print(\"Got it!\")\n",
    "        driver.execute_script(\"window.scrollTo(0,document.body.scrollHeight)\")\n",
    "        sleep(2)\n",
    "        footer = driver.find_elements(By.ID, footerID)\n",
    "        \n",
    "    ul = footer[0].find_element(By.TAG_NAME, \"update-location\")\n",
    "    #print(ul.is_displayed())\n",
    "    \n",
    "    numScroll = 0\n",
    "    while ul.is_displayed() is False:\n",
    "#         print(\"scrolling...\")\n",
    "        driver.execute_script(\"window.scrollTo(0,document.body.scrollHeight)\")\n",
    "        sleep(2)\n",
    "        ul = footer[0].find_element(By.TAG_NAME, \"update-location\")\n",
    "        \n",
    "        height = driver.execute_script(\"return document.body.scrollHeight\")\n",
    "#         print(f\"height: {height}\")\n",
    "        \n",
    "        if (numScroll % 4) == 0:\n",
    "#             print(f\"- four count\")\n",
    "            if height == saveHeight:\n",
    "#                 print(f\"- same height\")\n",
    "                elm = driver.find_element(By.TAG_NAME, \"html\")\n",
    "                for i in range(10):\n",
    "                    elm.send_keys(Keys.ARROW_UP)\n",
    "                \n",
    "            saveHeight = height\n",
    "        numScroll+= 1\n",
    "                \n",
    "    #print('clicking ul')\n",
    "    print(\"Passing it!\")\n",
    "    ul.click()"
   ]
  }
 ],
 "metadata": {
  "kernelspec": {
   "display_name": "Python 3 (ipykernel)",
   "language": "python",
   "name": "python3"
  },
  "language_info": {
   "codemirror_mode": {
    "name": "ipython",
    "version": 3
   },
   "file_extension": ".py",
   "mimetype": "text/x-python",
   "name": "python",
   "nbconvert_exporter": "python",
   "pygments_lexer": "ipython3",
   "version": "3.9.12"
  }
 },
 "nbformat": 4,
 "nbformat_minor": 5
}
